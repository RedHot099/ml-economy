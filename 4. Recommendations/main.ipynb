{
 "cells": [
  {
   "cell_type": "code",
   "execution_count": 1,
   "id": "609e992f",
   "metadata": {},
   "outputs": [],
   "source": [
    "import pandas as pd\n",
    "import numpy as np\n",
    "import matplotlib.pyplot as plt\n",
    "import seaborn as sns\n",
    "import time\n",
    "from surprise import Dataset, Reader, SVD, KNNBasic\n",
    "from surprise.model_selection import cross_validate, train_test_split, GridSearchCV\n",
    "from surprise import accuracy\n",
    "from collections import defaultdict\n"
   ]
  },
  {
   "cell_type": "code",
   "execution_count": 12,
   "id": "8462f947",
   "metadata": {},
   "outputs": [],
   "source": [
    "ratings_path = \"./ml-latest-small/ratings.csv\"\n",
    "movies_path = \"./ml-latest-small/movies.csv\"\n",
    "tags_path = \"./ml-latest-small/tags.csv\"\n",
    "links_path = \"./ml-latest-small/links.csv\"\n",
    "\n",
    "ratings_df = pd.read_csv(ratings_path)\n",
    "movies_df = pd.read_csv(movies_path)\n",
    "tags_df = pd.read_csv(tags_path)\n",
    "links_df = pd.read_csv(links_path)\n",
    "\n",
    "reader = Reader(rating_scale=(0.5, 5))\n",
    "data = Dataset.load_from_df(ratings_df[['userId', 'movieId', 'rating']], reader)"
   ]
  },
  {
   "cell_type": "markdown",
   "id": "00f73153",
   "metadata": {},
   "source": [
    "### Liczba filmów dla dzieci"
   ]
  },
  {
   "cell_type": "code",
   "execution_count": 13,
   "id": "bcf8e3b1",
   "metadata": {},
   "outputs": [
    {
     "name": "stdout",
     "output_type": "stream",
     "text": [
      "Liczba filmów dla dzieci: 664\n"
     ]
    }
   ],
   "source": [
    "children_movies_count = movies_df[movies_df['genres'].str.contains('Children')].shape[0]\n",
    "print(f\"Liczba filmów dla dzieci: {children_movies_count}\")\n"
   ]
  },
  {
   "cell_type": "markdown",
   "id": "b1d4c768",
   "metadata": {},
   "source": [
    "### Rozkład ocen filmów z 1995"
   ]
  },
  {
   "cell_type": "code",
   "execution_count": 14,
   "id": "91203e93",
   "metadata": {},
   "outputs": [
    {
     "data": {
      "image/png": "[encoded data removed]",
      "text/plain": [
       "<Figure size 1000x600 with 1 Axes>"
      ]
     },
     "metadata": {},
     "output_type": "display_data"
    },
    {
     "name": "stdout",
     "output_type": "stream",
     "text": [
      "count    6144.000000\n",
      "mean        3.443848\n",
      "std         1.059566\n",
      "min         0.500000\n",
      "25%         3.000000\n",
      "50%         3.500000\n",
      "75%         4.000000\n",
      "max         5.000000\n",
      "Name: rating, dtype: float64\n"
     ]
    }
   ],
   "source": [
    "movies_1995 = movies_df[movies_df['title'].str.contains('1995')]\n",
    "ratings_1995 = ratings_df[ratings_df['movieId'].isin(movies_1995['movieId'])]\n",
    "\n",
    "plt.figure(figsize=(10, 6))\n",
    "sns.countplot(x='rating', data=ratings_1995)\n",
    "plt.title('Rozkład ocen filmów z 1995 roku')\n",
    "plt.xlabel('Ocena')\n",
    "plt.ylabel('Liczba ocen')\n",
    "plt.show()\n",
    "\n",
    "print(ratings_1995['rating'].describe())\n"
   ]
  },
  {
   "cell_type": "markdown",
   "id": "be84bfe5",
   "metadata": {},
   "source": [
    "### Średnia ocen filmów akcji i 3 najwyżej oceniane"
   ]
  },
  {
   "cell_type": "code",
   "execution_count": 15,
   "id": "a24ad540",
   "metadata": {},
   "outputs": [
    {
     "name": "stdout",
     "output_type": "stream",
     "text": [
      "Średnia ocen wszystkich filmów akcji: 3.45\n",
      "\n",
      "3 najwyżej oceniane filmy akcji:\n",
      "Once Upon a Time in the West (C'era una volta il West) (1968) - Średnia ocena: 4.31 (Liczba ocen: 18)\n",
      "All Quiet on the Western Front (1930) - Średnia ocena: 4.35 (Liczba ocen: 10)\n",
      "Elite Squad (Tropa de Elite) (2007) - Średnia ocena: 4.30 (Liczba ocen: 10)\n"
     ]
    }
   ],
   "source": [
    "action_movies = movies_df[movies_df['genres'].str.contains('Action')]['movieId']\n",
    "action_ratings = ratings_df[ratings_df['movieId'].isin(action_movies)]\n",
    "\n",
    "action_avg_rating = action_ratings['rating'].mean()\n",
    "print(f\"Średnia ocen wszystkich filmów akcji: {action_avg_rating:.2f}\")\n",
    "\n",
    "action_movie_ratings = action_ratings.groupby('movieId')['rating'].agg(['mean', 'count'])\n",
    "action_movie_ratings = action_movie_ratings.sort_values('mean', ascending=False)\n",
    "\n",
    "top_action_movies = action_movie_ratings[action_movie_ratings['count'] >= 10].head(3)\n",
    "top_action_titles = movies_df[movies_df['movieId'].isin(top_action_movies.index)][['movieId', 'title']]\n",
    "top_action_result = pd.merge(top_action_titles, top_action_movies, left_on='movieId', right_index=True)\n",
    "\n",
    "print(\"\\n3 najwyżej oceniane filmy akcji:\")\n",
    "for idx, row in top_action_result.iterrows():\n",
    "    print(f\"{row['title']} - Średnia ocena: {row['mean']:.2f} (Liczba ocen: {row['count']})\")\n"
   ]
  },
  {
   "cell_type": "markdown",
   "id": "07a6a2e4",
   "metadata": {},
   "source": [
    "## Budowa systemu rekomendacyjnego"
   ]
  },
  {
   "cell_type": "code",
   "execution_count": 16,
   "id": "53ffa546",
   "metadata": {},
   "outputs": [],
   "source": [
    "trainset, testset = train_test_split(data, test_size=0.25, random_state=42)\n"
   ]
  },
  {
   "cell_type": "markdown",
   "id": "cd44902e",
   "metadata": {},
   "source": [
    "### SVD"
   ]
  },
  {
   "cell_type": "code",
   "execution_count": 71,
   "id": "4049fd4e",
   "metadata": {},
   "outputs": [
    {
     "name": "stdout",
     "output_type": "stream",
     "text": [
      "RMSE: 0.8840\n",
      "MAE:  0.6791\n",
      "SVD - Czas treningu: 0.99 s\n",
      "SVD - Czas testowania: 0.06 s\n"
     ]
    }
   ],
   "source": [
    "from surprise import SVD\n",
    "import numpy as np\n",
    "\n",
    "svd = SVD(n_factors=100, n_epochs=30, lr_all=0.005, reg_all=0.02, random_state=42)\n",
    "trainset, testset = train_test_split(data, test_size=0.25, random_state=42)\n",
    "\n",
    "start_time = time.time()\n",
    "svd.fit(trainset)\n",
    "svd_train_time = time.time() - start_time\n",
    "\n",
    "start_time = time.time()\n",
    "svd_predictions = svd.test(testset)\n",
    "svd_test_time = time.time() - start_time\n",
    "\n",
    "svd_rmse = accuracy.rmse(svd_predictions)\n",
    "svd_mae = accuracy.mae(svd_predictions)\n",
    "\n",
    "print(f\"SVD - Czas treningu: {svd_train_time:.2f} s\")\n",
    "print(f\"SVD - Czas testowania: {svd_test_time:.2f} s\")"
   ]
  },
  {
   "cell_type": "markdown",
   "id": "27e0e51b",
   "metadata": {},
   "source": [
    "### KNN"
   ]
  },
  {
   "cell_type": "code",
   "execution_count": 72,
   "id": "4c918be5",
   "metadata": {},
   "outputs": [
    {
     "name": "stdout",
     "output_type": "stream",
     "text": [
      "Computing the pearson similarity matrix...\n",
      "Done computing similarity matrix.\n",
      "RMSE: 0.9850\n",
      "MAE:  0.7606\n",
      "kNN - Czas treningu: 0.09 s\n",
      "kNN - Czas testowania: 0.57 s\n"
     ]
    }
   ],
   "source": [
    "knn = KNNBasic(k=40, sim_options={'name': 'pearson', 'user_based': True})\n",
    "start_time = time.time()\n",
    "knn.fit(trainset)\n",
    "knn_train_time = time.time() - start_time\n",
    "\n",
    "def get_knn_recommendations(user_id, knn_algo, ratings_df, movies_df, n=3):\n",
    "    if user_id not in ratings_df['userId'].values:\n",
    "        print(f\"Użytkownik {user_id} nie istnieje w zbiorze danych.\")\n",
    "        return []\n",
    "    \n",
    "    user_ratings = ratings_df[ratings_df['userId'] == user_id]\n",
    "    user_movies = user_ratings['movieId'].tolist()\n",
    "    unrated_movies = movies_df[~movies_df['movieId'].isin(user_movies)]['movieId'].tolist()\n",
    "    \n",
    "    predictions = []\n",
    "    for movie_id in unrated_movies:\n",
    "        try:\n",
    "            pred = knn_algo.predict(str(user_id), str(movie_id), verbose=False)\n",
    "            user_mean = user_ratings['rating'].mean()\n",
    "            global_mean = ratings_df['rating'].mean()\n",
    "            adjusted_est = pred.est + (user_mean - global_mean) * 0.3\n",
    "            adjusted_est = max(0.5, min(5.0, adjusted_est))\n",
    "            predictions.append((movie_id, adjusted_est))\n",
    "        except:\n",
    "            continue\n",
    "    \n",
    "    predictions.sort(key=lambda x: x[1], reverse=True)\n",
    "    \n",
    "    top_n = []\n",
    "    for movie_id, score in predictions[:n]:\n",
    "        movie_title = movies_df[movies_df['movieId'] == movie_id]['title'].values[0]\n",
    "        top_n.append((movie_title, score))\n",
    "    \n",
    "    return top_n\n",
    "\n",
    "start_time = time.time()\n",
    "knn_predictions = knn.test(testset)\n",
    "knn_test_time = time.time() - start_time\n",
    "\n",
    "knn_rmse = accuracy.rmse(knn_predictions)\n",
    "knn_mae = accuracy.mae(knn_predictions)\n",
    "\n",
    "print(f\"kNN - Czas treningu: {knn_train_time:.2f} s\")\n",
    "print(f\"kNN - Czas testowania: {knn_test_time:.2f} s\")\n"
   ]
  },
  {
   "cell_type": "markdown",
   "id": "0de4ed4a",
   "metadata": {},
   "source": [
    "### Rekomendacje po obejrzeniu filmu Toy Story"
   ]
  },
  {
   "cell_type": "code",
   "execution_count": 73,
   "id": "77508e77",
   "metadata": {},
   "outputs": [
    {
     "name": "stdout",
     "output_type": "stream",
     "text": [
      "ID filmu Toy Story: 1\n",
      "\n",
      "Rekomendacje po obejrzeniu filmu Toy Story:\n",
      "Jumanji (1995) (przewidywana ocena: 3.50)\n",
      "Grumpier Old Men (1995) (przewidywana ocena: 3.50)\n",
      "Waiting to Exhale (1995) (przewidywana ocena: 3.50)\n",
      "Father of the Bride Part II (1995) (przewidywana ocena: 3.50)\n",
      "Heat (1995) (przewidywana ocena: 3.50)\n"
     ]
    }
   ],
   "source": [
    "def get_movie_id(title, movies_df):\n",
    "    movie = movies_df[movies_df['title'].str.contains(title, case=False)]\n",
    "    if not movie.empty:\n",
    "        return str(movie.iloc[0]['movieId'])\n",
    "    return None\n",
    "\n",
    "def get_top_n_recommendations(predictions, n=10):\n",
    "    top_n = defaultdict(list)\n",
    "    for uid, iid, true_r, est, _ in predictions:\n",
    "        top_n[uid].append((iid, est))\n",
    "    \n",
    "    for uid, user_ratings in top_n.items():\n",
    "        user_ratings.sort(key=lambda x: x[1], reverse=True)\n",
    "        top_n[uid] = user_ratings[:n]\n",
    "    \n",
    "    return top_n\n",
    "\n",
    "toy_story_id = get_movie_id(\"Toy Story\", movies_df)\n",
    "print(f\"ID filmu Toy Story: {toy_story_id}\")\n",
    "\n",
    "toy_story_user = \"toy_story_fan\"\n",
    "toy_story_rating = [(toy_story_user, toy_story_id, 5.0)]\n",
    "\n",
    "full_trainset = data.build_full_trainset()\n",
    "svd.fit(full_trainset)\n",
    "\n",
    "all_movies = [str(movie_id) for movie_id in movies_df['movieId']]\n",
    "movies_to_predict = [(toy_story_user, movie_id, 0) for movie_id in all_movies if movie_id != toy_story_id]\n",
    "\n",
    "predictions = svd.test(movies_to_predict)\n",
    "\n",
    "top_recommendations = get_top_n_recommendations(predictions, n=5)\n",
    "\n",
    "print(\"\\nRekomendacje po obejrzeniu filmu Toy Story:\")\n",
    "for movie_id, rating in top_recommendations[toy_story_user]:\n",
    "    movie_title = movies_df[movies_df['movieId'] == int(movie_id)]['title'].values[0]\n",
    "    print(f\"{movie_title} (przewidywana ocena: {rating:.2f})\")\n"
   ]
  },
  {
   "cell_type": "markdown",
   "id": "a57b4ddc",
   "metadata": {},
   "source": [
    "### Grid Search"
   ]
  },
  {
   "cell_type": "code",
   "execution_count": 21,
   "id": "de0e6e05",
   "metadata": {},
   "outputs": [
    {
     "name": "stdout",
     "output_type": "stream",
     "text": [
      "Computing the msd similarity matrix...\n",
      "Done computing similarity matrix.\n",
      "Computing the msd similarity matrix...\n",
      "Done computing similarity matrix.\n",
      "Computing the msd similarity matrix...\n",
      "Done computing similarity matrix.\n",
      "Computing the msd similarity matrix...\n",
      "Done computing similarity matrix.\n",
      "Computing the msd similarity matrix...\n",
      "Done computing similarity matrix.\n",
      "Computing the msd similarity matrix...\n",
      "Done computing similarity matrix.\n",
      "Computing the cosine similarity matrix...\n",
      "Done computing similarity matrix.\n",
      "Computing the cosine similarity matrix...\n",
      "Done computing similarity matrix.\n",
      "Computing the cosine similarity matrix...\n",
      "Done computing similarity matrix.\n",
      "Computing the cosine similarity matrix...\n",
      "Done computing similarity matrix.\n",
      "Computing the cosine similarity matrix...\n",
      "Done computing similarity matrix.\n",
      "Computing the cosine similarity matrix...\n",
      "Done computing similarity matrix.\n",
      "Computing the msd similarity matrix...\n",
      "Done computing similarity matrix.\n",
      "Computing the msd similarity matrix...\n",
      "Done computing similarity matrix.\n",
      "Computing the msd similarity matrix...\n",
      "Done computing similarity matrix.\n",
      "Computing the msd similarity matrix...\n",
      "Done computing similarity matrix.\n",
      "Computing the msd similarity matrix...\n",
      "Done computing similarity matrix.\n",
      "Computing the msd similarity matrix...\n",
      "Done computing similarity matrix.\n",
      "Computing the cosine similarity matrix...\n",
      "Done computing similarity matrix.\n",
      "Computing the cosine similarity matrix...\n",
      "Done computing similarity matrix.\n",
      "Computing the cosine similarity matrix...\n",
      "Done computing similarity matrix.\n",
      "Computing the cosine similarity matrix...\n",
      "Done computing similarity matrix.\n",
      "Computing the cosine similarity matrix...\n",
      "Done computing similarity matrix.\n",
      "Computing the cosine similarity matrix...\n",
      "Done computing similarity matrix.\n",
      "Computing the msd similarity matrix...\n",
      "Done computing similarity matrix.\n",
      "Computing the msd similarity matrix...\n",
      "Done computing similarity matrix.\n",
      "Computing the msd similarity matrix...\n",
      "Done computing similarity matrix.\n",
      "Computing the msd similarity matrix...\n",
      "Done computing similarity matrix.\n",
      "Computing the msd similarity matrix...\n",
      "Done computing similarity matrix.\n",
      "Computing the msd similarity matrix...\n",
      "Done computing similarity matrix.\n",
      "Computing the cosine similarity matrix...\n",
      "Done computing similarity matrix.\n",
      "Computing the cosine similarity matrix...\n",
      "Done computing similarity matrix.\n",
      "Computing the cosine similarity matrix...\n",
      "Done computing similarity matrix.\n",
      "Computing the cosine similarity matrix...\n",
      "Done computing similarity matrix.\n",
      "Computing the cosine similarity matrix...\n",
      "Done computing similarity matrix.\n",
      "Computing the cosine similarity matrix...\n",
      "Done computing similarity matrix.\n",
      "Computing the msd similarity matrix...\n",
      "Done computing similarity matrix.\n",
      "Computing the msd similarity matrix...\n",
      "Done computing similarity matrix.\n",
      "Computing the msd similarity matrix...\n",
      "Done computing similarity matrix.\n",
      "Computing the msd similarity matrix...\n",
      "Done computing similarity matrix.\n",
      "Computing the msd similarity matrix...\n",
      "Done computing similarity matrix.\n",
      "Computing the msd similarity matrix...\n",
      "Done computing similarity matrix.\n",
      "Computing the cosine similarity matrix...\n",
      "Done computing similarity matrix.\n",
      "Computing the cosine similarity matrix...\n",
      "Done computing similarity matrix.\n",
      "Computing the cosine similarity matrix...\n",
      "Done computing similarity matrix.\n",
      "Computing the cosine similarity matrix...\n",
      "Done computing similarity matrix.\n",
      "Computing the cosine similarity matrix...\n",
      "Done computing similarity matrix.\n",
      "Computing the cosine similarity matrix...\n",
      "Done computing similarity matrix.\n",
      "Computing the msd similarity matrix...\n",
      "Done computing similarity matrix.\n",
      "Computing the msd similarity matrix...\n",
      "Done computing similarity matrix.\n",
      "Computing the msd similarity matrix...\n",
      "Done computing similarity matrix.\n",
      "Computing the msd similarity matrix...\n",
      "Done computing similarity matrix.\n",
      "Computing the msd similarity matrix...\n",
      "Done computing similarity matrix.\n",
      "Computing the msd similarity matrix...\n",
      "Done computing similarity matrix.\n",
      "Computing the cosine similarity matrix...\n",
      "Done computing similarity matrix.\n",
      "Computing the cosine similarity matrix...\n",
      "Done computing similarity matrix.\n",
      "Computing the cosine similarity matrix...\n",
      "Done computing similarity matrix.\n",
      "Computing the cosine similarity matrix...\n",
      "Done computing similarity matrix.\n",
      "Computing the cosine similarity matrix...\n",
      "Done computing similarity matrix.\n",
      "Computing the cosine similarity matrix...\n",
      "Done computing similarity matrix.\n",
      "Najlepsze parametry (RMSE): {'k': 65, 'sim_options': {'name': 'msd', 'user_based': False}}\n",
      "Najlepszy wynik (RMSE): 0.9118\n",
      "Czas wykonania Grid Search: 230.36 s\n"
     ]
    }
   ],
   "source": [
    "np.random.seed(42)\n",
    "k_values = np.random.randint(5, 100, size=5).tolist()\n",
    "\n",
    "param_grid = {\n",
    "    'k': k_values,\n",
    "    'sim_options': {\n",
    "        'name': ['msd', 'cosine'],\n",
    "        'user_based': [True, False]\n",
    "    }\n",
    "}\n",
    "\n",
    "gs = GridSearchCV(KNNBasic, param_grid, measures=['rmse', 'mae'], cv=3)\n",
    "start_time = time.time()\n",
    "gs.fit(data)\n",
    "grid_search_time = time.time() - start_time\n",
    "\n",
    "print(f\"Najlepsze parametry (RMSE): {gs.best_params['rmse']}\")\n",
    "print(f\"Najlepszy wynik (RMSE): {gs.best_score['rmse']:.4f}\")\n",
    "print(f\"Czas wykonania Grid Search: {grid_search_time:.2f} s\")\n",
    "\n",
    "best_knn = gs.best_estimator['rmse']\n"
   ]
  },
  {
   "cell_type": "code",
   "execution_count": 22,
   "id": "989f7a5d",
   "metadata": {},
   "outputs": [
    {
     "name": "stdout",
     "output_type": "stream",
     "text": [
      "\n",
      "Walidacja krzyżowa dla SVD:\n",
      "Evaluating RMSE, MAE of algorithm SVD on 5 split(s).\n",
      "\n",
      "                  Fold 1  Fold 2  Fold 3  Fold 4  Fold 5  Mean    Std     \n",
      "RMSE (testset)    0.8728  0.8737  0.8805  0.8714  0.8721  0.8741  0.0033  \n",
      "MAE (testset)     0.6717  0.6718  0.6767  0.6700  0.6671  0.6714  0.0031  \n",
      "Fit time          0.70    0.73    0.71    0.72    0.71    0.72    0.01    \n",
      "Test time         0.19    0.04    0.04    0.04    0.04    0.07    0.06    \n",
      "\n",
      "Walidacja krzyżowa dla najlepszego kNN:\n",
      "Computing the msd similarity matrix...\n",
      "Done computing similarity matrix.\n",
      "Computing the msd similarity matrix...\n",
      "Done computing similarity matrix.\n",
      "Computing the msd similarity matrix...\n",
      "Done computing similarity matrix.\n",
      "Computing the msd similarity matrix...\n",
      "Done computing similarity matrix.\n",
      "Computing the msd similarity matrix...\n",
      "Done computing similarity matrix.\n",
      "Evaluating RMSE, MAE of algorithm KNNBasic on 5 split(s).\n",
      "\n",
      "                  Fold 1  Fold 2  Fold 3  Fold 4  Fold 5  Mean    Std     \n",
      "RMSE (testset)    0.9028  0.8979  0.8992  0.9145  0.9133  0.9055  0.0070  \n",
      "MAE (testset)     0.6950  0.6914  0.6929  0.7033  0.7002  0.6966  0.0045  \n",
      "Fit time          2.45    2.03    2.03    2.06    1.93    2.10    0.18    \n",
      "Test time         2.68    2.90    2.78    2.78    2.77    2.78    0.07    \n"
     ]
    }
   ],
   "source": [
    "print(\"\\nWalidacja krzyżowa dla SVD:\")\n",
    "svd_cv_results = cross_validate(SVD(), data, measures=['RMSE', 'MAE'], cv=5, verbose=True)\n",
    "\n",
    "print(\"\\nWalidacja krzyżowa dla najlepszego kNN:\")\n",
    "knn_cv_results = cross_validate(best_knn, data, measures=['RMSE', 'MAE'], cv=5, verbose=True)\n"
   ]
  },
  {
   "cell_type": "markdown",
   "id": "3194582f",
   "metadata": {},
   "source": [
    "### Porównanie"
   ]
  },
  {
   "cell_type": "code",
   "execution_count": 23,
   "id": "61d49545",
   "metadata": {},
   "outputs": [
    {
     "data": {
      "image/png": "[encoded data removed]",
      "text/plain": [
       "<Figure size 1500x600 with 2 Axes>"
      ]
     },
     "metadata": {},
     "output_type": "display_data"
    },
    {
     "data": {
      "image/png": "[encoded data removed]",
      "text/plain": [
       "<Figure size 1500x600 with 2 Axes>"
      ]
     },
     "metadata": {},
     "output_type": "display_data"
    },
    {
     "name": "stdout",
     "output_type": "stream",
     "text": [
      "\n",
      "Porównanie algorytmów:\n",
      "  Algorytm  Średni czas treningu [s]  Średni czas testowania [s]  Średni RMSE  \\\n",
      "0      SVD                  0.715706                    0.069519     0.874113   \n",
      "1      kNN                  2.102012                    2.781827     0.905538   \n",
      "\n",
      "   Średni MAE  \n",
      "0    0.671444  \n",
      "1    0.696571  \n"
     ]
    }
   ],
   "source": [
    "algorithms = ['SVD', 'kNN']\n",
    "train_times = [np.mean(svd_cv_results['fit_time']), np.mean(knn_cv_results['fit_time'])]\n",
    "test_times = [np.mean(svd_cv_results['test_time']), np.mean(knn_cv_results['test_time'])]\n",
    "rmse_values = [np.mean(svd_cv_results['test_rmse']), np.mean(knn_cv_results['test_rmse'])]\n",
    "mae_values = [np.mean(svd_cv_results['test_mae']), np.mean(knn_cv_results['test_mae'])]\n",
    "\n",
    "fig, (ax1, ax2) = plt.subplots(1, 2, figsize=(15, 6))\n",
    "\n",
    "ax1.bar(algorithms, train_times, color=['blue', 'green'])\n",
    "ax1.set_title('Czas treningu')\n",
    "ax1.set_ylabel('Czas [s]')\n",
    "\n",
    "ax2.bar(algorithms, test_times, color=['blue', 'green'])\n",
    "ax2.set_title('Czas testowania')\n",
    "ax2.set_ylabel('Czas [s]')\n",
    "\n",
    "plt.tight_layout()\n",
    "plt.show()\n",
    "\n",
    "fig, (ax1, ax2) = plt.subplots(1, 2, figsize=(15, 6))\n",
    "\n",
    "ax1.bar(algorithms, rmse_values, color=['blue', 'green'])\n",
    "ax1.set_title('RMSE')\n",
    "ax1.set_ylabel('Wartość błędu')\n",
    "\n",
    "ax2.bar(algorithms, mae_values, color=['blue', 'green'])\n",
    "ax2.set_title('MAE')\n",
    "ax2.set_ylabel('Wartość błędu')\n",
    "\n",
    "plt.tight_layout()\n",
    "plt.show()\n",
    "\n",
    "comparison_df = pd.DataFrame({\n",
    "    'Algorytm': algorithms,\n",
    "    'Średni czas treningu [s]': train_times,\n",
    "    'Średni czas testowania [s]': test_times,\n",
    "    'Średni RMSE': rmse_values,\n",
    "    'Średni MAE': mae_values\n",
    "})\n",
    "\n",
    "print(\"\\nPorównanie algorytmów:\")\n",
    "print(comparison_df)\n"
   ]
  },
  {
   "cell_type": "markdown",
   "id": "7b9b26f8",
   "metadata": {},
   "source": [
    "### Rekomendacje dla użytkownika nr 600"
   ]
  },
  {
   "cell_type": "code",
   "execution_count": 74,
   "id": "ef2df4a7",
   "metadata": {},
   "outputs": [
    {
     "name": "stdout",
     "output_type": "stream",
     "text": [
      "Computing the msd similarity matrix...\n",
      "Done computing similarity matrix.\n",
      "\n",
      "Rekomendacje dla użytkownika 600 (SVD):\n",
      "Grumpier Old Men (1995) (przewidywana ocena: 3.50)\n",
      "Heat (1995) (przewidywana ocena: 3.50)\n",
      "Tom and Huck (1995) (przewidywana ocena: 3.50)\n",
      "\n",
      "Rekomendacje dla użytkownika 600 (kNN):\n",
      "Grumpier Old Men (1995) (przewidywana ocena: 3.50)\n",
      "Heat (1995) (przewidywana ocena: 3.50)\n",
      "Tom and Huck (1995) (przewidywana ocena: 3.50)\n"
     ]
    }
   ],
   "source": [
    "full_trainset = data.build_full_trainset()\n",
    "svd.fit(full_trainset)\n",
    "best_knn.fit(full_trainset)\n",
    "\n",
    "def get_recommendations_for_user(user_id, algo, movies_df, trainset, n=3):\n",
    "    if user_id not in ratings_df['userId'].values:\n",
    "        print(f\"Użytkownik {user_id} nie istnieje w zbiorze danych.\")\n",
    "        return []\n",
    "    \n",
    "    user_ratings = ratings_df[ratings_df['userId'] == user_id]\n",
    "    user_movies = user_ratings['movieId'].tolist()\n",
    "    \n",
    "    unrated_movies = movies_df[~movies_df['movieId'].isin(user_movies)]['movieId'].tolist()\n",
    "    \n",
    "    movies_to_predict = [(str(user_id), str(movie_id), 0) for movie_id in unrated_movies]\n",
    "    \n",
    "    predictions = algo.test(movies_to_predict)\n",
    "    \n",
    "    predictions.sort(key=lambda x: x.est, reverse=True)\n",
    "    \n",
    "    top_n = []\n",
    "    for pred in predictions[:n]:\n",
    "        movie_id = int(pred.iid)\n",
    "        movie_title = movies_df[movies_df['movieId'] == movie_id]['title'].values[0]\n",
    "        top_n.append((movie_title, pred.est))\n",
    "    \n",
    "    return top_n\n",
    "\n",
    "user_id = 600\n",
    "\n",
    "print(f\"\\nRekomendacje dla użytkownika {user_id} (SVD):\")\n",
    "svd_recommendations = get_recommendations_for_user(user_id, svd, movies_df, full_trainset)\n",
    "for title, rating in svd_recommendations:\n",
    "    print(f\"{title} (przewidywana ocena: {rating:.2f})\")\n",
    "\n",
    "print(f\"\\nRekomendacje dla użytkownika {user_id} (kNN):\")\n",
    "knn_recommendations = get_recommendations_for_user(user_id, best_knn, movies_df, full_trainset)\n",
    "for title, rating in knn_recommendations:\n",
    "    print(f\"{title} (przewidywana ocena: {rating:.2f})\")\n"
   ]
  },
  {
   "cell_type": "markdown",
   "id": "9b2f9f65",
   "metadata": {},
   "source": [
    "## NFC"
   ]
  },
  {
   "cell_type": "code",
   "execution_count": 79,
   "id": "5aa5f93f",
   "metadata": {},
   "outputs": [
    {
     "data": {
      "text/html": [
       "<pre style=\"white-space:pre;overflow-x:auto;line-height:normal;font-family:Menlo,'DejaVu Sans Mono',consolas,'Courier New',monospace\"><span style=\"font-weight: bold\">Model: \"functional_3\"</span>\n",
       "</pre>\n"
      ],
      "text/plain": [
       "\u001b[1mModel: \"functional_3\"\u001b[0m\n"
      ]
     },
     "metadata": {},
     "output_type": "display_data"
    },
    {
     "data": {
      "text/html": [
       "<pre style=\"white-space:pre;overflow-x:auto;line-height:normal;font-family:Menlo,'DejaVu Sans Mono',consolas,'Courier New',monospace\">┏━━━━━━━━━━━━━━━━━━━━━┳━━━━━━━━━━━━━━━━━━━┳━━━━━━━━━━━━┳━━━━━━━━━━━━━━━━━━━┓\n",
       "┃<span style=\"font-weight: bold\"> Layer (type)        </span>┃<span style=\"font-weight: bold\"> Output Shape      </span>┃<span style=\"font-weight: bold\">    Param # </span>┃<span style=\"font-weight: bold\"> Connected to      </span>┃\n",
       "┡━━━━━━━━━━━━━━━━━━━━━╇━━━━━━━━━━━━━━━━━━━╇━━━━━━━━━━━━╇━━━━━━━━━━━━━━━━━━━┩\n",
       "│ user_input          │ (<span style=\"color: #00d7ff; text-decoration-color: #00d7ff\">None</span>, <span style=\"color: #00af00; text-decoration-color: #00af00\">1</span>)         │          <span style=\"color: #00af00; text-decoration-color: #00af00\">0</span> │ -                 │\n",
       "│ (<span style=\"color: #0087ff; text-decoration-color: #0087ff\">InputLayer</span>)        │                   │            │                   │\n",
       "├─────────────────────┼───────────────────┼────────────┼───────────────────┤\n",
       "│ item_input          │ (<span style=\"color: #00d7ff; text-decoration-color: #00d7ff\">None</span>, <span style=\"color: #00af00; text-decoration-color: #00af00\">1</span>)         │          <span style=\"color: #00af00; text-decoration-color: #00af00\">0</span> │ -                 │\n",
       "│ (<span style=\"color: #0087ff; text-decoration-color: #0087ff\">InputLayer</span>)        │                   │            │                   │\n",
       "├─────────────────────┼───────────────────┼────────────┼───────────────────┤\n",
       "│ user_embedding      │ (<span style=\"color: #00d7ff; text-decoration-color: #00d7ff\">None</span>, <span style=\"color: #00af00; text-decoration-color: #00af00\">1</span>, <span style=\"color: #00af00; text-decoration-color: #00af00\">50</span>)     │     <span style=\"color: #00af00; text-decoration-color: #00af00\">30,500</span> │ user_input[<span style=\"color: #00af00; text-decoration-color: #00af00\">0</span>][<span style=\"color: #00af00; text-decoration-color: #00af00\">0</span>]  │\n",
       "│ (<span style=\"color: #0087ff; text-decoration-color: #0087ff\">Embedding</span>)         │                   │            │                   │\n",
       "├─────────────────────┼───────────────────┼────────────┼───────────────────┤\n",
       "│ item_embedding      │ (<span style=\"color: #00d7ff; text-decoration-color: #00d7ff\">None</span>, <span style=\"color: #00af00; text-decoration-color: #00af00\">1</span>, <span style=\"color: #00af00; text-decoration-color: #00af00\">50</span>)     │    <span style=\"color: #00af00; text-decoration-color: #00af00\">486,200</span> │ item_input[<span style=\"color: #00af00; text-decoration-color: #00af00\">0</span>][<span style=\"color: #00af00; text-decoration-color: #00af00\">0</span>]  │\n",
       "│ (<span style=\"color: #0087ff; text-decoration-color: #0087ff\">Embedding</span>)         │                   │            │                   │\n",
       "├─────────────────────┼───────────────────┼────────────┼───────────────────┤\n",
       "│ flatten_6 (<span style=\"color: #0087ff; text-decoration-color: #0087ff\">Flatten</span>) │ (<span style=\"color: #00d7ff; text-decoration-color: #00d7ff\">None</span>, <span style=\"color: #00af00; text-decoration-color: #00af00\">50</span>)        │          <span style=\"color: #00af00; text-decoration-color: #00af00\">0</span> │ user_embedding[<span style=\"color: #00af00; text-decoration-color: #00af00\">0</span>… │\n",
       "├─────────────────────┼───────────────────┼────────────┼───────────────────┤\n",
       "│ flatten_7 (<span style=\"color: #0087ff; text-decoration-color: #0087ff\">Flatten</span>) │ (<span style=\"color: #00d7ff; text-decoration-color: #00d7ff\">None</span>, <span style=\"color: #00af00; text-decoration-color: #00af00\">50</span>)        │          <span style=\"color: #00af00; text-decoration-color: #00af00\">0</span> │ item_embedding[<span style=\"color: #00af00; text-decoration-color: #00af00\">0</span>… │\n",
       "├─────────────────────┼───────────────────┼────────────┼───────────────────┤\n",
       "│ concatenate_3       │ (<span style=\"color: #00d7ff; text-decoration-color: #00d7ff\">None</span>, <span style=\"color: #00af00; text-decoration-color: #00af00\">100</span>)       │          <span style=\"color: #00af00; text-decoration-color: #00af00\">0</span> │ flatten_6[<span style=\"color: #00af00; text-decoration-color: #00af00\">0</span>][<span style=\"color: #00af00; text-decoration-color: #00af00\">0</span>],  │\n",
       "│ (<span style=\"color: #0087ff; text-decoration-color: #0087ff\">Concatenate</span>)       │                   │            │ flatten_7[<span style=\"color: #00af00; text-decoration-color: #00af00\">0</span>][<span style=\"color: #00af00; text-decoration-color: #00af00\">0</span>]   │\n",
       "├─────────────────────┼───────────────────┼────────────┼───────────────────┤\n",
       "│ dense_12 (<span style=\"color: #0087ff; text-decoration-color: #0087ff\">Dense</span>)    │ (<span style=\"color: #00d7ff; text-decoration-color: #00d7ff\">None</span>, <span style=\"color: #00af00; text-decoration-color: #00af00\">128</span>)       │     <span style=\"color: #00af00; text-decoration-color: #00af00\">12,928</span> │ concatenate_3[<span style=\"color: #00af00; text-decoration-color: #00af00\">0</span>]… │\n",
       "├─────────────────────┼───────────────────┼────────────┼───────────────────┤\n",
       "│ dense_13 (<span style=\"color: #0087ff; text-decoration-color: #0087ff\">Dense</span>)    │ (<span style=\"color: #00d7ff; text-decoration-color: #00d7ff\">None</span>, <span style=\"color: #00af00; text-decoration-color: #00af00\">64</span>)        │      <span style=\"color: #00af00; text-decoration-color: #00af00\">8,256</span> │ dense_12[<span style=\"color: #00af00; text-decoration-color: #00af00\">0</span>][<span style=\"color: #00af00; text-decoration-color: #00af00\">0</span>]    │\n",
       "├─────────────────────┼───────────────────┼────────────┼───────────────────┤\n",
       "│ dense_14 (<span style=\"color: #0087ff; text-decoration-color: #0087ff\">Dense</span>)    │ (<span style=\"color: #00d7ff; text-decoration-color: #00d7ff\">None</span>, <span style=\"color: #00af00; text-decoration-color: #00af00\">32</span>)        │      <span style=\"color: #00af00; text-decoration-color: #00af00\">2,080</span> │ dense_13[<span style=\"color: #00af00; text-decoration-color: #00af00\">0</span>][<span style=\"color: #00af00; text-decoration-color: #00af00\">0</span>]    │\n",
       "├─────────────────────┼───────────────────┼────────────┼───────────────────┤\n",
       "│ dense_15 (<span style=\"color: #0087ff; text-decoration-color: #0087ff\">Dense</span>)    │ (<span style=\"color: #00d7ff; text-decoration-color: #00d7ff\">None</span>, <span style=\"color: #00af00; text-decoration-color: #00af00\">1</span>)         │         <span style=\"color: #00af00; text-decoration-color: #00af00\">33</span> │ dense_14[<span style=\"color: #00af00; text-decoration-color: #00af00\">0</span>][<span style=\"color: #00af00; text-decoration-color: #00af00\">0</span>]    │\n",
       "└─────────────────────┴───────────────────┴────────────┴───────────────────┘\n",
       "</pre>\n"
      ],
      "text/plain": [
       "┏━━━━━━━━━━━━━━━━━━━━━┳━━━━━━━━━━━━━━━━━━━┳━━━━━━━━━━━━┳━━━━━━━━━━━━━━━━━━━┓\n",
       "┃\u001b[1m \u001b[0m\u001b[1mLayer (type)       \u001b[0m\u001b[1m \u001b[0m┃\u001b[1m \u001b[0m\u001b[1mOutput Shape     \u001b[0m\u001b[1m \u001b[0m┃\u001b[1m \u001b[0m\u001b[1m   Param #\u001b[0m\u001b[1m \u001b[0m┃\u001b[1m \u001b[0m\u001b[1mConnected to     \u001b[0m\u001b[1m \u001b[0m┃\n",
       "┡━━━━━━━━━━━━━━━━━━━━━╇━━━━━━━━━━━━━━━━━━━╇━━━━━━━━━━━━╇━━━━━━━━━━━━━━━━━━━┩\n",
       "│ user_input          │ (\u001b[38;5;45mNone\u001b[0m, \u001b[38;5;34m1\u001b[0m)         │          \u001b[38;5;34m0\u001b[0m │ -                 │\n",
       "│ (\u001b[38;5;33mInputLayer\u001b[0m)        │                   │            │                   │\n",
       "├─────────────────────┼───────────────────┼────────────┼───────────────────┤\n",
       "│ item_input          │ (\u001b[38;5;45mNone\u001b[0m, \u001b[38;5;34m1\u001b[0m)         │          \u001b[38;5;34m0\u001b[0m │ -                 │\n",
       "│ (\u001b[38;5;33mInputLayer\u001b[0m)        │                   │            │                   │\n",
       "├─────────────────────┼───────────────────┼────────────┼───────────────────┤\n",
       "│ user_embedding      │ (\u001b[38;5;45mNone\u001b[0m, \u001b[38;5;34m1\u001b[0m, \u001b[38;5;34m50\u001b[0m)     │     \u001b[38;5;34m30,500\u001b[0m │ user_input[\u001b[38;5;34m0\u001b[0m][\u001b[38;5;34m0\u001b[0m]  │\n",
       "│ (\u001b[38;5;33mEmbedding\u001b[0m)         │                   │            │                   │\n",
       "├─────────────────────┼───────────────────┼────────────┼───────────────────┤\n",
       "│ item_embedding      │ (\u001b[38;5;45mNone\u001b[0m, \u001b[38;5;34m1\u001b[0m, \u001b[38;5;34m50\u001b[0m)     │    \u001b[38;5;34m486,200\u001b[0m │ item_input[\u001b[38;5;34m0\u001b[0m][\u001b[38;5;34m0\u001b[0m]  │\n",
       "│ (\u001b[38;5;33mEmbedding\u001b[0m)         │                   │            │                   │\n",
       "├─────────────────────┼───────────────────┼────────────┼───────────────────┤\n",
       "│ flatten_6 (\u001b[38;5;33mFlatten\u001b[0m) │ (\u001b[38;5;45mNone\u001b[0m, \u001b[38;5;34m50\u001b[0m)        │          \u001b[38;5;34m0\u001b[0m │ user_embedding[\u001b[38;5;34m0\u001b[0m… │\n",
       "├─────────────────────┼───────────────────┼────────────┼───────────────────┤\n",
       "│ flatten_7 (\u001b[38;5;33mFlatten\u001b[0m) │ (\u001b[38;5;45mNone\u001b[0m, \u001b[38;5;34m50\u001b[0m)        │          \u001b[38;5;34m0\u001b[0m │ item_embedding[\u001b[38;5;34m0\u001b[0m… │\n",
       "├─────────────────────┼───────────────────┼────────────┼───────────────────┤\n",
       "│ concatenate_3       │ (\u001b[38;5;45mNone\u001b[0m, \u001b[38;5;34m100\u001b[0m)       │          \u001b[38;5;34m0\u001b[0m │ flatten_6[\u001b[38;5;34m0\u001b[0m][\u001b[38;5;34m0\u001b[0m],  │\n",
       "│ (\u001b[38;5;33mConcatenate\u001b[0m)       │                   │            │ flatten_7[\u001b[38;5;34m0\u001b[0m][\u001b[38;5;34m0\u001b[0m]   │\n",
       "├─────────────────────┼───────────────────┼────────────┼───────────────────┤\n",
       "│ dense_12 (\u001b[38;5;33mDense\u001b[0m)    │ (\u001b[38;5;45mNone\u001b[0m, \u001b[38;5;34m128\u001b[0m)       │     \u001b[38;5;34m12,928\u001b[0m │ concatenate_3[\u001b[38;5;34m0\u001b[0m]… │\n",
       "├─────────────────────┼───────────────────┼────────────┼───────────────────┤\n",
       "│ dense_13 (\u001b[38;5;33mDense\u001b[0m)    │ (\u001b[38;5;45mNone\u001b[0m, \u001b[38;5;34m64\u001b[0m)        │      \u001b[38;5;34m8,256\u001b[0m │ dense_12[\u001b[38;5;34m0\u001b[0m][\u001b[38;5;34m0\u001b[0m]    │\n",
       "├─────────────────────┼───────────────────┼────────────┼───────────────────┤\n",
       "│ dense_14 (\u001b[38;5;33mDense\u001b[0m)    │ (\u001b[38;5;45mNone\u001b[0m, \u001b[38;5;34m32\u001b[0m)        │      \u001b[38;5;34m2,080\u001b[0m │ dense_13[\u001b[38;5;34m0\u001b[0m][\u001b[38;5;34m0\u001b[0m]    │\n",
       "├─────────────────────┼───────────────────┼────────────┼───────────────────┤\n",
       "│ dense_15 (\u001b[38;5;33mDense\u001b[0m)    │ (\u001b[38;5;45mNone\u001b[0m, \u001b[38;5;34m1\u001b[0m)         │         \u001b[38;5;34m33\u001b[0m │ dense_14[\u001b[38;5;34m0\u001b[0m][\u001b[38;5;34m0\u001b[0m]    │\n",
       "└─────────────────────┴───────────────────┴────────────┴───────────────────┘\n"
      ]
     },
     "metadata": {},
     "output_type": "display_data"
    },
    {
     "data": {
      "text/html": [
       "<pre style=\"white-space:pre;overflow-x:auto;line-height:normal;font-family:Menlo,'DejaVu Sans Mono',consolas,'Courier New',monospace\"><span style=\"font-weight: bold\"> Total params: </span><span style=\"color: #00af00; text-decoration-color: #00af00\">539,997</span> (2.06 MB)\n",
       "</pre>\n"
      ],
      "text/plain": [
       "\u001b[1m Total params: \u001b[0m\u001b[38;5;34m539,997\u001b[0m (2.06 MB)\n"
      ]
     },
     "metadata": {},
     "output_type": "display_data"
    },
    {
     "data": {
      "text/html": [
       "<pre style=\"white-space:pre;overflow-x:auto;line-height:normal;font-family:Menlo,'DejaVu Sans Mono',consolas,'Courier New',monospace\"><span style=\"font-weight: bold\"> Trainable params: </span><span style=\"color: #00af00; text-decoration-color: #00af00\">539,997</span> (2.06 MB)\n",
       "</pre>\n"
      ],
      "text/plain": [
       "\u001b[1m Trainable params: \u001b[0m\u001b[38;5;34m539,997\u001b[0m (2.06 MB)\n"
      ]
     },
     "metadata": {},
     "output_type": "display_data"
    },
    {
     "data": {
      "text/html": [
       "<pre style=\"white-space:pre;overflow-x:auto;line-height:normal;font-family:Menlo,'DejaVu Sans Mono',consolas,'Courier New',monospace\"><span style=\"font-weight: bold\"> Non-trainable params: </span><span style=\"color: #00af00; text-decoration-color: #00af00\">0</span> (0.00 B)\n",
       "</pre>\n"
      ],
      "text/plain": [
       "\u001b[1m Non-trainable params: \u001b[0m\u001b[38;5;34m0\u001b[0m (0.00 B)\n"
      ]
     },
     "metadata": {},
     "output_type": "display_data"
    },
    {
     "name": "stdout",
     "output_type": "stream",
     "text": [
      "\n",
      "Trening modelu NCF:\n",
      "Epoch 1/5\n",
      "\u001b[1m1261/1261\u001b[0m \u001b[32m━━━━━━━━━━━━━━━━━━━━\u001b[0m\u001b[37m\u001b[0m \u001b[1m6s\u001b[0m 5ms/step - loss: 0.0451 - mae: 0.1657 - val_loss: 0.0380 - val_mae: 0.1505\n",
      "Epoch 2/5\n",
      "\u001b[1m1261/1261\u001b[0m \u001b[32m━━━━━━━━━━━━━━━━━━━━\u001b[0m\u001b[37m\u001b[0m \u001b[1m6s\u001b[0m 4ms/step - loss: 0.0332 - mae: 0.1395 - val_loss: 0.0373 - val_mae: 0.1485\n",
      "Epoch 3/5\n",
      "\u001b[1m1261/1261\u001b[0m \u001b[32m━━━━━━━━━━━━━━━━━━━━\u001b[0m\u001b[37m\u001b[0m \u001b[1m5s\u001b[0m 4ms/step - loss: 0.0300 - mae: 0.1314 - val_loss: 0.0378 - val_mae: 0.1490\n",
      "Epoch 4/5\n",
      "\u001b[1m1261/1261\u001b[0m \u001b[32m━━━━━━━━━━━━━━━━━━━━\u001b[0m\u001b[37m\u001b[0m \u001b[1m5s\u001b[0m 4ms/step - loss: 0.0256 - mae: 0.1212 - val_loss: 0.0389 - val_mae: 0.1510\n",
      "Epoch 5/5\n",
      "\u001b[1m1261/1261\u001b[0m \u001b[32m━━━━━━━━━━━━━━━━━━━━\u001b[0m\u001b[37m\u001b[0m \u001b[1m5s\u001b[0m 4ms/step - loss: 0.0210 - mae: 0.1093 - val_loss: 0.0403 - val_mae: 0.1514\n"
     ]
    },
    {
     "data": {
      "image/png": "[encoded data removed]",
      "text/plain": [
       "<Figure size 1200x500 with 2 Axes>"
      ]
     },
     "metadata": {},
     "output_type": "display_data"
    },
    {
     "name": "stdout",
     "output_type": "stream",
     "text": [
      "\n",
      "Rekomendacje dla użytkownika 600 (NCF):\n",
      "Grumpier Old Men (1995) (przewidywana ocena: 3.00)\n",
      "Heat (1995) (przewidywana ocena: 3.00)\n",
      "Tom and Huck (1995) (przewidywana ocena: 3.00)\n"
     ]
    }
   ],
   "source": [
    "import tensorflow as tf\n",
    "from tensorflow.keras.models import Model\n",
    "from tensorflow.keras.layers import Input, Embedding, Flatten, Dense, Concatenate\n",
    "from tensorflow.keras.optimizers import Adam\n",
    "from sklearn.model_selection import train_test_split as sklearn_train_test_split\n",
    "\n",
    "ratings_array = []\n",
    "for (u, i, r) in full_trainset.all_ratings():\n",
    "    ratings_array.append((u, i, r))\n",
    "ratings_array = np.array(ratings_array)\n",
    "\n",
    "ratings_array[:, 2] = (ratings_array[:, 2] - 0.5) / 4.5\n",
    "\n",
    "n_users = full_trainset.n_users\n",
    "n_items = full_trainset.n_items\n",
    "\n",
    "X = ratings_array[:, :2]\n",
    "y = ratings_array[:, 2]\n",
    "X_train, X_val, y_train, y_val = sklearn_train_test_split(X, y, test_size=0.2, random_state=42)\n",
    "\n",
    "embedding_size = 50\n",
    "\n",
    "user_input = Input(shape=(1,), name='user_input')\n",
    "item_input = Input(shape=(1,), name='item_input')\n",
    "\n",
    "user_embedding = Embedding(n_users, embedding_size, name='user_embedding')(user_input)\n",
    "item_embedding = Embedding(n_items, embedding_size, name='item_embedding')(item_input)\n",
    "\n",
    "user_vector = Flatten()(user_embedding)\n",
    "item_vector = Flatten()(item_embedding)\n",
    "\n",
    "concat = Concatenate()([user_vector, item_vector])\n",
    "\n",
    "dense1 = Dense(128, activation='relu')(concat)\n",
    "dense2 = Dense(64, activation='relu')(dense1)\n",
    "dense3 = Dense(32, activation='relu')(dense2)\n",
    "output = Dense(1, activation='sigmoid')(dense3)\n",
    "\n",
    "model = Model([user_input, item_input], output)\n",
    "model.compile(\n",
    "    optimizer=Adam(learning_rate=0.001),\n",
    "    loss='mean_squared_error',\n",
    "    metrics=['mae']\n",
    ")\n",
    "\n",
    "model.summary()\n",
    "\n",
    "print(\"\\nTrening modelu NCF:\")\n",
    "start_time = time.time()\n",
    "history = model.fit(\n",
    "    [X_train[:, 0], X_train[:, 1]], \n",
    "    y_train,\n",
    "    batch_size=64,\n",
    "    epochs=5,\n",
    "    validation_data=([X_val[:, 0], X_val[:, 1]], y_val),\n",
    "    verbose=1\n",
    ")\n",
    "ncf_train_time = time.time() - start_time\n",
    "\n",
    "plt.figure(figsize=(12, 5))\n",
    "plt.subplot(1, 2, 1)\n",
    "plt.plot(history.history['loss'])\n",
    "plt.plot(history.history['val_loss'])\n",
    "plt.title('Model loss')\n",
    "plt.ylabel('Loss')\n",
    "plt.xlabel('Epoch')\n",
    "plt.legend(['Train', 'Validation'], loc='upper right')\n",
    "\n",
    "plt.subplot(1, 2, 2)\n",
    "plt.plot(history.history['mae'])\n",
    "plt.plot(history.history['val_mae'])\n",
    "plt.title('Model MAE')\n",
    "plt.ylabel('MAE')\n",
    "plt.xlabel('Epoch')\n",
    "plt.legend(['Train', 'Validation'], loc='upper right')\n",
    "\n",
    "plt.tight_layout()\n",
    "plt.show()\n",
    "\n",
    "class NCFPredictor:\n",
    "    def __init__(self, model, trainset):\n",
    "        self.model = model\n",
    "        self.trainset = trainset\n",
    "    \n",
    "    def predict(self, uid, iid, verbose=False):\n",
    "        from surprise.prediction_algorithms.predictions import Prediction\n",
    "        try:\n",
    "            inner_uid = self.trainset.to_inner_uid(uid)\n",
    "            inner_iid = self.trainset.to_inner_iid(iid)\n",
    "            \n",
    "            pred = self.model.predict([[inner_uid], [inner_iid]], verbose=0)[0][0]\n",
    "            pred = pred * 4.5 + 0.5  # Denormalizacja\n",
    "            \n",
    "            return Prediction(uid=uid, iid=iid, r_ui=None, est=pred, details={})\n",
    "        except ValueError:\n",
    "            return Prediction(uid=uid, iid=iid, r_ui=None, est=3.0, details={'was_impossible': True})\n",
    "    \n",
    "    def test(self, testset):\n",
    "        predictions = []\n",
    "        for (uid, iid, _) in testset:\n",
    "            pred = self.predict(uid, iid)\n",
    "            predictions.append(pred)\n",
    "        return predictions\n",
    "\n",
    "ncf_predictor = NCFPredictor(model, full_trainset)\n",
    "\n",
    "user_id = 600\n",
    "\n",
    "print(f\"\\nRekomendacje dla użytkownika {user_id} (NCF):\")\n",
    "ncf_recommendations = get_recommendations_for_user(user_id, ncf_predictor, movies_df, full_trainset)\n",
    "for title, rating in ncf_recommendations:\n",
    "    print(f\"{title} (przewidywana ocena: {rating:.2f})\")\n"
   ]
  }
 ],
 "metadata": {
  "kernelspec": {
   "display_name": ".venv",
   "language": "python",
   "name": "python3"
  },
  "language_info": {
   "codemirror_mode": {
    "name": "ipython",
    "version": 3
   },
   "file_extension": ".py",
   "mimetype": "text/x-python",
   "name": "python",
   "nbconvert_exporter": "python",
   "pygments_lexer": "ipython3",
   "version": "3.12.3"
  }
 },
 "nbformat": 4,
 "nbformat_minor": 5
}
